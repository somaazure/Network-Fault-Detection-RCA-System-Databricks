{
  "cells": [
    {
      "cell_type": "code",
      "execution_count": 1,
      "metadata": {},
      "outputs": [
        {
          "output_type": "stream",
          "name": "stdout",
          "text": [
            "✅ Execution completed successfully\n"
          ]
        }
      ],
      "source": [
        "# MAGIC",
        "# MAGIC",
        "# MAGIC",
        "# MAGIC"
      ]
    },
    {
      "cell_type": "code",
      "execution_count": 2,
      "metadata": {},
      "outputs": [],
      "source": [
        "import os",
        "from setuptools import setup, find_packages",
        "",
        "setup(",
        "    name=\"flask-nwk-rca-real-rag\",",
        "    version=\"1.0.0\",",
        "    description=\"Network RCA Assistant with Real RAG System\",",
        "    py_modules=[\"app_flask_real_rag\"],",
        "    install_requires=[",
        "        \"Flask==2.3.3\",",
        "        \"pandas==1.5.3\",",
        "        \"databricks-vectorsearch>=0.22\",",
        "        \"mlflow>=2.8.0\",",
        "        \"requests>=2.31.0\",",
        "        \"numpy>=1.24.0\"",
        "    ],",
        "    python_requires=\">=3.8\",",
        ")"
      ]
    }
  ],
  "metadata": {
    "kernelspec": {
      "display_name": "Python 3",
      "language": "python",
      "name": "python3"
    },
    "language_info": {
      "codemirror_mode": {
        "name": "ipython",
        "version": 3
      },
      "file_extension": ".py",
      "mimetype": "text/x-python",
      "name": "python",
      "nbconvert_exporter": "python",
      "pygments_lexer": "ipython3",
      "version": "3.8.0"
    },
    "application/vnd.databricks.v1+notebook": {
      "title": "Setup",
      "language": "python",
      "dashboards": [],
      "version": "1"
    }
  },
  "nbformat": 4,
  "nbformat_minor": 4
}